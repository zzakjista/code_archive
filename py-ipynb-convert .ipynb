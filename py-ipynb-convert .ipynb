{
 "cells": [
  {
   "cell_type": "code",
   "execution_count": 8,
   "id": "5c151db7",
   "metadata": {},
   "outputs": [],
   "source": [
    "#py to ipynb\n",
    "!ipynb-py-convert genre_most_popular.py genre_most_popular.ipynb"
   ]
  },
  {
   "cell_type": "code",
   "execution_count": 3,
   "id": "64b40018",
   "metadata": {},
   "outputs": [],
   "source": [
    "#py to ipynb \n",
    "import os\n",
    "import jupytext\n",
    "\n",
    "dir_path = r'C:\\github\\ML_Melon_Project\\baseline'\n",
    "file_extension = r'.py'\n",
    "py_list = [file for file in os.listdir(dir_path) if file.endswith(file_extension)]\n",
    "for py_file in py_list:\n",
    "    py_path = os.path.join(dir_path, py_file)\n",
    "    nb_path = os.path.join(dir_path, py_file[:-3] + '.ipynb')\n",
    "    jupytext.write(jupytext.read(py_path), nb_path)"
   ]
  },
  {
   "cell_type": "code",
   "execution_count": null,
   "id": "8a9be1a3",
   "metadata": {},
   "outputs": [],
   "source": [
    "#ipynb to py\n",
    "import os\n",
    "import jupytext\n",
    "\n",
    "dir_path = r'C:\\github\\ML_Melon_Project\\baseline'\n",
    "file_extension = r'.ipynb'\n",
    "ipynb_list = [file for file in os.listdir(dir_path) if file.endswith(file_extension)]\n",
    "for ipynb_file in ipynb_list:\n",
    "    ipynb_path = os.path.join(dir_path, ipynb_file)\n",
    "    py_path = os.path.join(dir_path, ipynb_file[:-3] + '.py')\n",
    "    jupytext.write(jupytext.read(ipynb_path), py_path)"
   ]
  }
 ],
 "metadata": {
  "kernelspec": {
   "display_name": "Python 3 (ipykernel)",
   "language": "python",
   "name": "python3"
  },
  "language_info": {
   "codemirror_mode": {
    "name": "ipython",
    "version": 3
   },
   "file_extension": ".py",
   "mimetype": "text/x-python",
   "name": "python",
   "nbconvert_exporter": "python",
   "pygments_lexer": "ipython3",
   "version": "3.9.7"
  }
 },
 "nbformat": 4,
 "nbformat_minor": 5
}
